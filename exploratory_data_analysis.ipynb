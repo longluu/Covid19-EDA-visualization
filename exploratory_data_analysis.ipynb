{
 "cells": [
  {
   "cell_type": "markdown",
   "metadata": {},
   "source": [
    "## Import the raw data\n",
    "This dataset is compiled by Johns Hopkins University and updated daily\n",
    "https://github.com/CSSEGISandData/COVID-19/tree/master/csse_covid_19_data/csse_covid_19_time_series"
   ]
  },
  {
   "cell_type": "code",
   "execution_count": null,
   "metadata": {},
   "outputs": [],
   "source": [
    "import pandas as pd \n",
    "import os\n",
    "\n",
    "# Retrieve data from the web\n",
    "print('Beginning data loading ...')\n",
    "data_dir = os.path.join(os.getcwd(), 'COVID-19/csse_covid_19_data/csse_covid_19_time_series')\n",
    "\n",
    "# Global case \n",
    "dir_global = os.path.join(data_dir, 'time_series_covid19_confirmed_global.csv')\n",
    "global_case = pd.read_csv(dir_global)\n",
    "\n",
    "\n",
    "# Global death\n",
    "dir_global_death = os.path.join(data_dir, 'time_series_covid19_deaths_global.csv')\n",
    "global_death = pd.read_csv(dir_global_death)\n",
    "\n",
    "# US case\n",
    "dir_US = os.path.join(data_dir, 'time_series_covid19_confirmed_US.csv')\n",
    "US_case = pd.read_csv(dir_US)\n",
    "    \n",
    "# US death\n",
    "dir_US_death = os.path.join(data_dir, 'time_series_covid19_deaths_US.csv')\n",
    "US_death = pd.read_csv(dir_US_death)\n",
    "    \n",
    "print('Data loading finished!')"
   ]
  },
  {
   "cell_type": "markdown",
   "metadata": {},
   "source": [
    "## Explore the dataset\n"
   ]
  }
 ],
 "metadata": {
  "kernelspec": {
   "display_name": "Python 3",
   "language": "python",
   "name": "python3"
  },
  "language_info": {
   "codemirror_mode": {
    "name": "ipython",
    "version": 3
   },
   "file_extension": ".py",
   "mimetype": "text/x-python",
   "name": "python",
   "nbconvert_exporter": "python",
   "pygments_lexer": "ipython3",
   "version": "3.7.3"
  }
 },
 "nbformat": 4,
 "nbformat_minor": 2
}
